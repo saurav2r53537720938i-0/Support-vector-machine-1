{
 "cells": [
  {
   "cell_type": "markdown",
   "id": "e549323f-1615-422c-9e78-f5b11b045262",
   "metadata": {},
   "source": [
    "The mathematical formula for a linear support vector machine(SVM) can be reprsented as:\n",
    "f(x) = sign(w.x+b)\n",
    "In this formulation the SVM tries to find the optimal hyperplane that seprates the classes in the feature space by maximizing the margin between classes.The decsion boundary is reprsented by."
   ]
  },
  {
   "cell_type": "markdown",
   "id": "1c13fb01-bc5e-405a-9e52-9d95e2f59a8a",
   "metadata": {},
   "source": [
    "The objective function of a linear support vector machine(svm) is typically formulated to minimize the misclassfication error while maximizing the norm of the weight vector subject to the constraint that all data points are correctly classfied within their respective margins.This is often reprresented as a convex optimization problem."
   ]
  },
  {
   "cell_type": "markdown",
   "id": "5bcac3d1-8172-4453-897e-3f367a46d4e7",
   "metadata": {},
   "source": [
    "The Kernel trick is a method used in support vector machines for performing non-linear classfication it involves implcity mapping the input data into a higher kernel -dimensional space using a kernel function by doing so the svm  can effectively find a linear decsion boundary in this higher dimension space even if the orginal input space is not linearly seprable this allow SVM to handle complex decsion boundariesand nonlinear feature without explcity computing the transformation into the higer -dimensional space thus avoiding the computational overhead common kernel function include the polonmiyal."
   ]
  },
  {
   "cell_type": "markdown",
   "id": "9dac27ac-b848-4dda-beb3-646c51263f12",
   "metadata": {},
   "source": [
    "In support vector machine(svm) support vectors are the data points that lie closet to the decsion boundary between diffrent classes.These support vector play a crucial role defining the decsion boundary and determining the optimal 'sepration between classes:\n",
    "1. Defning the decsion boundary\n",
    "2. Determining the margin\n",
    "3. Influence on model's parameter"
   ]
  },
  {
   "cell_type": "markdown",
   "id": "ad79c1a2-70d4-4869-a084-cc62ddcaa086",
   "metadata": {},
   "source": [
    "I will provide a brief explanation of each term along with example and graphs for better understanding:\n",
    "1. Hyperplane:In svm,a hyperplane is a decsion boundary that seprates class in a higher blue circles and red tringles you want to find a line in 2d or a plane that seprates these two classes as much as possible\n",
    "2. Marginal plane:in the marginal plane refers to that plane that maximize the margin which is the distances between the point from either class.The margin is reprsented as the distance between the hyperplane and the suuport  vector closed data point from each class the marginal plane is the one that maximize this distance\n",
    "3. Soft Margin and Hard Margin:In some case the data might not be linearly seprable or there could be outliers.In such"
   ]
  }
 ],
 "metadata": {
  "kernelspec": {
   "display_name": "Python 3 (ipykernel)",
   "language": "python",
   "name": "python3"
  },
  "language_info": {
   "codemirror_mode": {
    "name": "ipython",
    "version": 3
   },
   "file_extension": ".py",
   "mimetype": "text/x-python",
   "name": "python",
   "nbconvert_exporter": "python",
   "pygments_lexer": "ipython3",
   "version": "3.10.8"
  }
 },
 "nbformat": 4,
 "nbformat_minor": 5
}
